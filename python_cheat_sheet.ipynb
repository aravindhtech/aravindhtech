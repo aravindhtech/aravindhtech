{
  "nbformat": 4,
  "nbformat_minor": 0,
  "metadata": {
    "colab": {
      "name": "python cheat sheet",
      "provenance": [],
      "collapsed_sections": [],
      "authorship_tag": "ABX9TyM8oHq8zmxlKhJ7u7tAkmb5",
      "include_colab_link": true
    },
    "kernelspec": {
      "name": "python3",
      "display_name": "Python 3"
    },
    "language_info": {
      "name": "python"
    }
  },
  "cells": [
    {
      "cell_type": "markdown",
      "metadata": {
        "id": "view-in-github",
        "colab_type": "text"
      },
      "source": [
        "<a href=\"https://colab.research.google.com/github/aravindhtech/aravindhtech/blob/main/python_cheat_sheet.ipynb\" target=\"_parent\"><img src=\"https://colab.research.google.com/assets/colab-badge.svg\" alt=\"Open In Colab\"/></a>"
      ]
    },
    {
      "cell_type": "code",
      "execution_count": null,
      "metadata": {
        "colab": {
          "base_uri": "https://localhost:8080/"
        },
        "id": "PROH_Q7N_rcy",
        "outputId": "0b45aabd-80e8-478d-e5f8-d9f9d365c920"
      },
      "outputs": [
        {
          "output_type": "stream",
          "name": "stdout",
          "text": [
            "how are you\n"
          ]
        }
      ],
      "source": [
        "print(\"how are you\") \n",
        "#anything to print should be inside paranthesis()"
      ]
    },
    {
      "cell_type": "code",
      "source": [
        "msg1 = \"hellooooo\"\n",
        "print(msg1)\n",
        "#store string in variable (msg1) and use that variable to point string"
      ],
      "metadata": {
        "colab": {
          "base_uri": "https://localhost:8080/"
        },
        "id": "nEEk8FafC1BA",
        "outputId": "eee1d903-5d60-46ac-8aaf-1448ac0b0d39"
      },
      "execution_count": null,
      "outputs": [
        {
          "output_type": "stream",
          "name": "stdout",
          "text": [
            "hellooooo\n"
          ]
        }
      ]
    },
    {
      "cell_type": "code",
      "source": [
        "msg1 = \"hi\"\n",
        "msg2 = \"arav\"\n",
        "print(msg1+msg2)\n",
        "#lets concatenate two string while printing"
      ],
      "metadata": {
        "colab": {
          "base_uri": "https://localhost:8080/"
        },
        "id": "bdv6NvaiDMSa",
        "outputId": "4ceb6262-a411-46ba-fe07-1fd86c4266da"
      },
      "execution_count": null,
      "outputs": [
        {
          "output_type": "stream",
          "name": "stdout",
          "text": [
            "hiarav\n"
          ]
        }
      ]
    },
    {
      "cell_type": "code",
      "source": [
        "False==(9>0) \n",
        "#condition will be checking"
      ],
      "metadata": {
        "colab": {
          "base_uri": "https://localhost:8080/"
        },
        "id": "c8TKHoEfDvCQ",
        "outputId": "c47ff2fc-6041-4b23-f0a0-7b8d53136c1b"
      },
      "execution_count": null,
      "outputs": [
        {
          "output_type": "execute_result",
          "data": {
            "text/plain": [
              "False"
            ]
          },
          "metadata": {},
          "execution_count": 6
        }
      ]
    },
    {
      "cell_type": "code",
      "source": [
        "True==(9<0)\n",
        "#condition will be checking"
      ],
      "metadata": {
        "colab": {
          "base_uri": "https://localhost:8080/"
        },
        "id": "wtt3WhxVD9wJ",
        "outputId": "3333d5f9-4af2-44ae-d11d-3e43e93374b9"
      },
      "execution_count": null,
      "outputs": [
        {
          "output_type": "execute_result",
          "data": {
            "text/plain": [
              "False"
            ]
          },
          "metadata": {},
          "execution_count": 8
        }
      ]
    },
    {
      "cell_type": "code",
      "source": [
        "x,y = 7,5 #using logical operators: and , or , not\n",
        "print(2 > 3 and x < 10) #Returns True if both statements are true\n",
        "print(x > 8 or y < 9) #Returns True if one of the statements is true\n",
        "print(not(x > 3)) #Reverse the result, returns True if the result is false\n"
      ],
      "metadata": {
        "colab": {
          "base_uri": "https://localhost:8080/"
        },
        "id": "FCco_RYjEdkX",
        "outputId": "03d3706b-a04f-4a29-8610-97f98d1623f2"
      },
      "execution_count": null,
      "outputs": [
        {
          "output_type": "stream",
          "name": "stdout",
          "text": [
            "False\n",
            "True\n",
            "False\n"
          ]
        }
      ]
    },
    {
      "cell_type": "code",
      "source": [
        "msg1 ='beast'# Using for loop\n",
        "for letter in msg1:\n",
        "  print(letter)\n",
        "  if letter=='a' or letter =='t':\n",
        "    break\n",
        "\n",
        "  print(\"out of for loop\")\n",
        "  print()\n"
      ],
      "metadata": {
        "colab": {
          "base_uri": "https://localhost:8080/"
        },
        "id": "DQ-ZHWnvHIrT",
        "outputId": "228b4806-6b86-4fce-a2d0-cc01cf624f5f"
      },
      "execution_count": null,
      "outputs": [
        {
          "output_type": "stream",
          "name": "stdout",
          "text": [
            "b\n",
            "out of for loop\n",
            "\n",
            "e\n",
            "out of for loop\n",
            "\n",
            "a\n"
          ]
        }
      ]
    },
    {
      "cell_type": "code",
      "source": [
        "for letter in 'peace':     # Finishes current loop iteration\n",
        "   if letter == 'c':\n",
        "      continue\n",
        "   print ('Current Letter :', letter)"
      ],
      "metadata": {
        "colab": {
          "base_uri": "https://localhost:8080/"
        },
        "id": "4FjL9RTxOI0B",
        "outputId": "56cf0b2d-44f7-4db9-b327-2ad11184924f"
      },
      "execution_count": null,
      "outputs": [
        {
          "output_type": "stream",
          "name": "stdout",
          "text": [
            "Current Letter : p\n",
            "Current Letter : e\n",
            "Current Letter : a\n",
            "Current Letter : e\n"
          ]
        }
      ]
    },
    {
      "cell_type": "code",
      "source": [
        "msg1=4\n",
        "msg2=4\n",
        "print(msg1+msg2)\n",
        "print(msg1-msg2)\n",
        "print(msg1*msg2)\n",
        "print(msg1%msg2)\n",
        "#to using arithmetic operation"
      ],
      "metadata": {
        "colab": {
          "base_uri": "https://localhost:8080/"
        },
        "id": "QzDoptdNOV4j",
        "outputId": "86dd8358-3bda-4186-f59e-4cf308251ba3"
      },
      "execution_count": null,
      "outputs": [
        {
          "output_type": "stream",
          "name": "stdout",
          "text": [
            "8\n",
            "0\n",
            "16\n",
            "0\n"
          ]
        }
      ]
    },
    {
      "cell_type": "code",
      "source": [
        "a=b=c=4\n",
        "print(b)\n",
        "#assign same value to multiple variable"
      ],
      "metadata": {
        "colab": {
          "base_uri": "https://localhost:8080/"
        },
        "id": "NwfTUqPRQkzE",
        "outputId": "83d28995-e36d-47a0-fdc4-85f3c315d85f"
      },
      "execution_count": null,
      "outputs": [
        {
          "output_type": "stream",
          "name": "stdout",
          "text": [
            "4\n"
          ]
        }
      ]
    },
    {
      "cell_type": "code",
      "source": [
        "a,b,c=22,33,44\n",
        "print(b,c)\n",
        "#assign different values to multiple variable in single line"
      ],
      "metadata": {
        "colab": {
          "base_uri": "https://localhost:8080/"
        },
        "id": "Tc-BvM1AROg3",
        "outputId": "02c2fbcf-95bd-4bbb-8a87-2370e183551d"
      },
      "execution_count": null,
      "outputs": [
        {
          "output_type": "stream",
          "name": "stdout",
          "text": [
            "33 44\n"
          ]
        }
      ]
    },
    {
      "cell_type": "code",
      "source": [
        "price = 10  #Conditional program execution:if , elif , else\n",
        "\n",
        "if price > 100:\n",
        "    print(\"price is greater than 100\")\n",
        "elif price == 100:\n",
        "    print(\"price is 100\")\n",
        "elif price < 100:\n",
        "    print(\"price is less than 100\")\n",
        "\n",
        "    print('Tata!!!')"
      ],
      "metadata": {
        "colab": {
          "base_uri": "https://localhost:8080/"
        },
        "id": "e9KepAJrWGjF",
        "outputId": "4554537c-19e2-4ea5-b09c-51ebf4c52fa0"
      },
      "execution_count": null,
      "outputs": [
        {
          "output_type": "stream",
          "name": "stdout",
          "text": [
            "price is less than 100\n",
            "Tata!!\n"
          ]
        }
      ]
    },
    {
      "cell_type": "code",
      "source": [
        "for char in 'ARAVINDHAN':\n",
        "    print (char)\n",
        "    #For Loop with String"
      ],
      "metadata": {
        "colab": {
          "base_uri": "https://localhost:8080/"
        },
        "id": "FdXtrhISYOom",
        "outputId": "6677e51b-ed21-4d4c-ed3e-fea95953bb8e"
      },
      "execution_count": null,
      "outputs": [
        {
          "output_type": "stream",
          "name": "stdout",
          "text": [
            "A\n",
            "R\n",
            "A\n",
            "V\n",
            "I\n",
            "N\n",
            "D\n",
            "H\n",
            "A\n",
            "N\n"
          ]
        }
      ]
    },
    {
      "cell_type": "code",
      "source": [
        "variables = { 1:'One', 2: 'Two', 3: 'Three'}\n",
        "\n",
        "for msg1,msg2 in variables.items():\n",
        "    print(\"key = \", msg1 , \", value =\", msg2)\n",
        "    #for loop with dictionary"
      ],
      "metadata": {
        "colab": {
          "base_uri": "https://localhost:8080/"
        },
        "id": "L5foyFhHZFz6",
        "outputId": "a5034ec1-5ba4-4391-d406-9ff492977514"
      },
      "execution_count": null,
      "outputs": [
        {
          "output_type": "stream",
          "name": "stdout",
          "text": [
            "key =  1 , value = One\n",
            "key =  2 , value = Two\n",
            "key =  3 , value = Three\n"
          ]
        }
      ]
    },
    {
      "cell_type": "code",
      "source": [
        "num =5 #to using while condition\n",
        "\n",
        "while num < 7:\n",
        "    num = num + 1\n",
        "    print('num = ', num)"
      ],
      "metadata": {
        "colab": {
          "base_uri": "https://localhost:8080/"
        },
        "id": "D2tOFvYvZ-C1",
        "outputId": "5ae2e34e-43fd-4a86-9db7-831fe62a612c"
      },
      "execution_count": null,
      "outputs": [
        {
          "output_type": "stream",
          "name": "stdout",
          "text": [
            "num =  6\n",
            "num =  7\n"
          ]
        }
      ]
    },
    {
      "cell_type": "code",
      "source": [
        "num = 1 #to using continue in while loop\n",
        "\n",
        "while num < 5:\n",
        "\tnum += 1   # num += 1 is same as num = num + 1\n",
        "\tif num > 3: # condition before exiting a loop\n",
        "\t\tcontinue\n",
        "\tprint('num = ', num)"
      ],
      "metadata": {
        "colab": {
          "base_uri": "https://localhost:8080/"
        },
        "id": "k7f7k7LIalil",
        "outputId": "84fd7d49-7b56-43dd-ed47-6ea2d97e9824"
      },
      "execution_count": null,
      "outputs": [
        {
          "output_type": "stream",
          "name": "stdout",
          "text": [
            "num =  2\n",
            "num =  3\n"
          ]
        }
      ]
    },
    {
      "cell_type": "code",
      "source": [
        "#Accessing string characters in Python\n",
        "str = 'INTERNSHIP'\n",
        "print('str = ', str)\n",
        "\n",
        "#first character\n",
        "print('str[0] = ', str[0])\n",
        "\n",
        "#last character\n",
        "print('str[-1] = ', str[-1])\n",
        "\n",
        "#slicing 2nd to 5th character\n",
        "print('str[1:5] = ', str[1:5])\n",
        "\n",
        "#slicing 6th to 2nd last character\n",
        "print('str[5:-2] = ', str[5:-2])"
      ],
      "metadata": {
        "colab": {
          "base_uri": "https://localhost:8080/"
        },
        "id": "nMsLZaaTbpfT",
        "outputId": "72b35305-1c39-487b-eec6-eabf36b2ab7c"
      },
      "execution_count": null,
      "outputs": [
        {
          "output_type": "stream",
          "name": "stdout",
          "text": [
            "str =  INTERNSHIP\n",
            "str[0] =  I\n",
            "str[-1] =  P\n",
            "str[1:5] =  NTER\n",
            "str[5:-2] =  NSH\n"
          ]
        }
      ]
    },
    {
      "cell_type": "code",
      "source": [
        "subject = ['maths', 'science', 'social', 'history']\n",
        "subject.remove('social')\n",
        "print(\"Updated List: \",subject)\n",
        "subject.remove('science')\n",
        "print(\"Updated List: \",subject)\n",
        "#Removing an element"
      ],
      "metadata": {
        "colab": {
          "base_uri": "https://localhost:8080/"
        },
        "id": "XYLbUGkYem1a",
        "outputId": "ded95918-ab77-43ea-c16f-3ee38a5820c0"
      },
      "execution_count": null,
      "outputs": [
        {
          "output_type": "stream",
          "name": "stdout",
          "text": [
            "Updated List:  ['maths', 'science', 'history']\n",
            "Updated List:  ['maths', 'history']\n"
          ]
        }
      ]
    },
    {
      "cell_type": "code",
      "source": [
        "name = ['arav', 'ashok', 'suriya', 'karthi', 'deepan']\n",
        "print(\"Original List: \",name)\n",
        "\n",
        "name.reverse()\n",
        "print(\"Reversed List: \", name)\n",
        "#to reverse the char in list"
      ],
      "metadata": {
        "colab": {
          "base_uri": "https://localhost:8080/"
        },
        "id": "_LsJum_lfphs",
        "outputId": "2d9967ae-5060-48e9-ac02-34840cf8fce0"
      },
      "execution_count": null,
      "outputs": [
        {
          "output_type": "stream",
          "name": "stdout",
          "text": [
            "Original List:  ['arav', 'ashok', 'suriya', 'karthi', 'deepan']\n",
            "Reversed List:  ['deepan', 'karthi', 'suriya', 'ashok', 'arav']\n"
          ]
        }
      ]
    },
    {
      "cell_type": "code",
      "source": [
        "msg1 = ['a','d','e','c','b']\n",
        "msg1.sort(reverse=True)\n",
        "print('List in Descending Order: ',msg1)\n",
        "\n",
        "msg1.sort()\n",
        "print('List in Ascending Order: ',msg1)\n",
        "#to sort the char in list"
      ],
      "metadata": {
        "colab": {
          "base_uri": "https://localhost:8080/"
        },
        "id": "b1KQV2kCg_wv",
        "outputId": "aa080795-ff3d-4e89-d326-6b5ecb1b38d1"
      },
      "execution_count": null,
      "outputs": [
        {
          "output_type": "stream",
          "name": "stdout",
          "text": [
            "List in Descending Order:  ['e', 'd', 'c', 'b', 'a']\n",
            "List in Ascending Order:  ['a', 'b', 'c', 'd', 'e']\n"
          ]
        }
      ]
    },
    {
      "cell_type": "code",
      "source": [
        "veg = ['potato', 'onion', 'tomoto', 'carrot']\n",
        "veg.insert(0, 'brinjal') # inserts at 0 index (first element)\n",
        "print(veg)\n",
        "\n",
        "veg.insert(2, 'cucumber') # inserts at 2nd index\n",
        "print(veg)\n",
        "#to adding the element in this list"
      ],
      "metadata": {
        "colab": {
          "base_uri": "https://localhost:8080/"
        },
        "id": "zxrnsEZah9Rd",
        "outputId": "bd12f6a2-7671-4813-fc4e-edd70a4bd86f"
      },
      "execution_count": null,
      "outputs": [
        {
          "output_type": "stream",
          "name": "stdout",
          "text": [
            "['brinjal', 'potato', 'onion', 'tomoto', 'carrot']\n",
            "['brinjal', 'potato', 'cucumber', 'onion', 'tomoto', 'carrot']\n"
          ]
        }
      ]
    },
    {
      "cell_type": "code",
      "source": [
        "tpl=() # empty tuple\n",
        "print(tpl)\n",
        "\n",
        "names = ('Jeff', 'Bill', 'Steve', 'Yash') # string tuple\n",
        "print(names)\n",
        "\n",
        "nums = (1, 2, 3, 4, 5) # int tuple\n",
        "print(nums)\n",
        "\n",
        "employee=(1, 'Steve', True, 25, 12000)  # heterogeneous data tuple\n",
        "print(employee)"
      ],
      "metadata": {
        "colab": {
          "base_uri": "https://localhost:8080/"
        },
        "id": "79Rl1s9Bk_vL",
        "outputId": "f2f022d6-8169-496e-cfc2-65aada855f58"
      },
      "execution_count": null,
      "outputs": [
        {
          "output_type": "stream",
          "name": "stdout",
          "text": [
            "()\n",
            "('Jeff', 'Bill', 'Steve', 'Yash')\n",
            "(1, 2, 3, 4, 5)\n",
            "(1, 'Steve', True, 25, 12000)\n"
          ]
        }
      ]
    },
    {
      "cell_type": "code",
      "source": [
        "# set of integers\n",
        "my_set = {1, 2, 3}\n",
        "print(my_set)\n",
        "\n",
        "# set of mixed datatypes\n",
        "my_set = {1.0, \"Hello\", (1, 2, 3)}\n",
        "print(my_set)"
      ],
      "metadata": {
        "colab": {
          "base_uri": "https://localhost:8080/"
        },
        "id": "yO4Q2Gs4lru7",
        "outputId": "f4068e4e-dd12-4a1f-e55d-21554f6f2f2d"
      },
      "execution_count": null,
      "outputs": [
        {
          "output_type": "stream",
          "name": "stdout",
          "text": [
            "{1, 2, 3}\n",
            "{1.0, 'Hello', (1, 2, 3)}\n"
          ]
        }
      ]
    },
    {
      "cell_type": "code",
      "source": [
        "# initialize my_set\n",
        "my_set = {1, 3}\n",
        "print(my_set)\n",
        "\n",
        "# add an element\n",
        "my_set.add(2)\n",
        "print(my_set)\n",
        "\n",
        "# add multiple elements\n",
        "my_set.update([2, 4, 9])\n",
        "print(my_set)\n",
        "\n",
        "# add list and set\n",
        "my_set.update([4, 5], {1, 6, 8})\n",
        "print(my_set)"
      ],
      "metadata": {
        "colab": {
          "base_uri": "https://localhost:8080/"
        },
        "id": "oafa7gv7m0Xw",
        "outputId": "88180e13-339a-4cb6-b006-2b6db05bf164"
      },
      "execution_count": null,
      "outputs": [
        {
          "output_type": "stream",
          "name": "stdout",
          "text": [
            "{1, 3}\n",
            "{1, 2, 3}\n",
            "{1, 2, 3, 4, 9}\n",
            "{1, 2, 3, 4, 5, 6, 8, 9}\n"
          ]
        }
      ]
    },
    {
      "cell_type": "code",
      "source": [
        "# empty dictionary\n",
        "my_dict = {}\n",
        "\n",
        "# dictionary with integer keys\n",
        "my_dict = {1: 'apple', 2: 'ball'}\n",
        "print(my_dict)\n",
        "\n",
        "# dictionary with mixed keys\n",
        "my_dict = {'name': 'John', 1: [2, 4, 3]}\n",
        "print(my_dict)\n",
        "\n",
        "# using dict()\n",
        "my_dict = dict({1:'apple', 2:'ball'})\n",
        "print(my_dict)\n",
        "\n",
        "# from sequence having each item as a pair\n",
        "my_dict = dict([(1,'apple'), (2,'ball')])\n",
        "print(my_dict)"
      ],
      "metadata": {
        "colab": {
          "base_uri": "https://localhost:8080/"
        },
        "id": "qxAQxtnQoJHU",
        "outputId": "a777d0c7-d824-491e-b7b6-04df8e5aa67f"
      },
      "execution_count": null,
      "outputs": [
        {
          "output_type": "stream",
          "name": "stdout",
          "text": [
            "{1: 'apple', 2: 'ball'}\n",
            "{'name': 'John', 1: [2, 4, 3]}\n",
            "{1: 'apple', 2: 'ball'}\n",
            "{1: 'apple', 2: 'ball'}\n"
          ]
        }
      ]
    },
    {
      "cell_type": "code",
      "source": [
        "# Changing and adding Dictionary Elements\n",
        "my_dict = {'name': 'Jack', 'age': 26}\n",
        "\n",
        "# update value\n",
        "my_dict['age'] = 27\n",
        "print(my_dict)\n",
        "\n",
        "# add item\n",
        "my_dict['address'] = 'Downtown'\n",
        "print(my_dict)"
      ],
      "metadata": {
        "colab": {
          "base_uri": "https://localhost:8080/"
        },
        "id": "oRN6groXoiPh",
        "outputId": "0b6793dd-cae4-4b78-9901-9fd6dfaca4f5"
      },
      "execution_count": null,
      "outputs": [
        {
          "output_type": "stream",
          "name": "stdout",
          "text": [
            "{'name': 'Jack', 'age': 27}\n",
            "{'name': 'Jack', 'age': 27, 'address': 'Downtown'}\n"
          ]
        }
      ]
    },
    {
      "cell_type": "code",
      "source": [
        "class Person:\n",
        "    \"This is a person class\"\n",
        "    age = 10\n",
        "\n",
        "    def greet(self):\n",
        "        print('Hello')\n",
        "\n",
        "print(Person.age)\n",
        "\n",
        "print(Person.greet)\n",
        "\n",
        "print(Person.__doc__)"
      ],
      "metadata": {
        "colab": {
          "base_uri": "https://localhost:8080/"
        },
        "id": "1zyUhaHNs5o6",
        "outputId": "ee5c113d-5409-444b-e5c2-bbfd568d3e2d"
      },
      "execution_count": null,
      "outputs": [
        {
          "output_type": "stream",
          "name": "stdout",
          "text": [
            "10\n",
            "<function Person.greet at 0x7fe2dc8e3e60>\n",
            "This is a person class\n"
          ]
        }
      ]
    },
    {
      "cell_type": "code",
      "source": [
        "sum = lambda x, y, z : x + y + z #lambda Function with no name (anonymous function)\n",
        "sum(5, 10, 15)"
      ],
      "metadata": {
        "colab": {
          "base_uri": "https://localhost:8080/"
        },
        "id": "mCTjlpdjtjd1",
        "outputId": "56aa11e9-81b5-4b36-96db-9a26a76b5727"
      },
      "execution_count": null,
      "outputs": [
        {
          "output_type": "execute_result",
          "data": {
            "text/plain": [
              "30"
            ]
          },
          "metadata": {},
          "execution_count": 68
        }
      ]
    },
    {
      "cell_type": "code",
      "source": [
        "def factorial(x):\n",
        "    \"\"\"This is a recursive function\n",
        "    to find the factorial of an integer\"\"\"\n",
        "\n",
        "    if x == 1:\n",
        "        return 1\n",
        "    else:\n",
        "        return (x * factorial(x-1))\n",
        "\n",
        "\n",
        "num = 3\n",
        "print(\"The factorial of\", num, \"is\", factorial(num))"
      ],
      "metadata": {
        "colab": {
          "base_uri": "https://localhost:8080/"
        },
        "id": "eLodTsTLuumy",
        "outputId": "12e1ac76-6981-4a7d-ee81-7f3e7df5164f"
      },
      "execution_count": null,
      "outputs": [
        {
          "output_type": "stream",
          "name": "stdout",
          "text": [
            "The factorial of 3 is 6\n"
          ]
        }
      ]
    },
    {
      "cell_type": "code",
      "source": [
        "# Python program to illustrate functions\n",
        "# can return another function\n",
        " \n",
        "def create_adder(x):\n",
        "    def adder(y):\n",
        "        return x + y\n",
        " \n",
        "    return adder\n",
        " \n",
        "add_15 = create_adder(15)\n",
        " \n",
        "print(\"The result is\", add_15(10))\n",
        " \n",
        "# Returning different function\n",
        "def outer(x):\n",
        "    return x * 10\n",
        " \n",
        "def my_func():\n",
        "     \n",
        "    # returning different function\n",
        "    return outer\n",
        " \n",
        "# storing the function in res\n",
        "res = my_func()\n",
        " \n",
        "print(\"\\nThe result is:\", res(10))"
      ],
      "metadata": {
        "colab": {
          "base_uri": "https://localhost:8080/"
        },
        "id": "dPMVbazKvAIs",
        "outputId": "0221bf95-ac64-43be-81f1-dc8af96d5b9b"
      },
      "execution_count": null,
      "outputs": [
        {
          "output_type": "stream",
          "name": "stdout",
          "text": [
            "The result is 25\n",
            "\n",
            "The result is: 100\n"
          ]
        }
      ]
    },
    {
      "cell_type": "code",
      "source": [
        "# This function returns a list\n",
        "def fun():\n",
        "    str = \"internship\"\n",
        "    x = 20  \n",
        "    return [str, x];  \n",
        "   \n",
        "# Driver code to test above method\n",
        "list = fun() \n",
        "print(list)"
      ],
      "metadata": {
        "colab": {
          "base_uri": "https://localhost:8080/"
        },
        "id": "9CkRDSxJw7gQ",
        "outputId": "a1fe8b82-6ce1-46da-b5dd-23f74b3b50af"
      },
      "execution_count": null,
      "outputs": [
        {
          "output_type": "stream",
          "name": "stdout",
          "text": [
            "['internship', 20]\n"
          ]
        }
      ]
    },
    {
      "cell_type": "code",
      "source": [
        "x, y = 3 , 2\n",
        "print(x + y)  \n",
        "print(x - y)  \n",
        "print(x * y) \n",
        "print(x / y) \n",
        "print(x // y) \n",
        "print(x % y) \n",
        "print(-x) \n",
        "print(abs(-x)) \n",
        "#arithnetic operation"
      ],
      "metadata": {
        "colab": {
          "base_uri": "https://localhost:8080/"
        },
        "id": "gw4Fct7fxDAU",
        "outputId": "c3ec2ba0-7f6b-4820-fd48-deeff50bd021"
      },
      "execution_count": null,
      "outputs": [
        {
          "output_type": "stream",
          "name": "stdout",
          "text": [
            "5\n",
            "1\n",
            "6\n",
            "1.5\n",
            "1\n",
            "1\n",
            "-3\n",
            "3\n"
          ]
        }
      ]
    },
    {
      "cell_type": "code",
      "source": [
        "val1 = 2\n",
        "val2 = 3\n",
        "\n",
        "# using the addition operator\n",
        "res = val1 + val2\n",
        "print(res)\n",
        "\n",
        "\n",
        "# using the subtraction operator\n",
        "res = val1 - val2\n",
        "print(res)\n",
        "\n",
        "\n",
        "# using the multiplication operator\n",
        "res = val1 * val2\n",
        "print(res)\n",
        "\n",
        "\n",
        "# using the division operator\n",
        "res = val1 / val2\n",
        "print(res)\n",
        "\n",
        "\n",
        "# using the modulus operator\n",
        "res = val1 % val2\n",
        "print(res)\n",
        "\n",
        "\n",
        "# using the exponentiation operator\n",
        "res = val1 ** val2\n",
        "print(res)\n",
        "\n",
        "\n",
        "# using the floor division\n",
        "res = val1 // val2\n",
        "print(res)\n"
      ],
      "metadata": {
        "colab": {
          "base_uri": "https://localhost:8080/"
        },
        "id": "0DTobV_nyYGA",
        "outputId": "052775f0-93a9-49cb-dfbe-33953bea6c04"
      },
      "execution_count": null,
      "outputs": [
        {
          "output_type": "stream",
          "name": "stdout",
          "text": [
            "5\n",
            "-1\n",
            "6\n",
            "0.6666666666666666\n",
            "2\n",
            "8\n",
            "0\n"
          ]
        }
      ]
    },
    {
      "cell_type": "code",
      "source": [
        "x = None\n",
        "\n",
        "if x:\n",
        "  print(\"Do you think None is True?\")\n",
        "elif x is False:\n",
        "  print (\"Do you think None is False?\")\n",
        "else:\n",
        "  print(\"None is not True, or False, None is just None...\")"
      ],
      "metadata": {
        "colab": {
          "base_uri": "https://localhost:8080/"
        },
        "id": "Am1mURPOz1Oa",
        "outputId": "7d7be482-34b1-4d41-e481-472e45ceb607"
      },
      "execution_count": null,
      "outputs": [
        {
          "output_type": "stream",
          "name": "stdout",
          "text": [
            "None is not True, or False, None is just None...\n"
          ]
        }
      ]
    },
    {
      "cell_type": "code",
      "source": [
        "name = [ \"Manjeet\", \"Nikhil\", \"Shambhavi\", \"Astha\" ]\n",
        "roll_no = [ 4, 1, 3, 2 ]\n",
        " \n",
        "# using zip() to map values\n",
        "mapped = zip(name, roll_no)\n",
        " \n",
        "print(set(mapped))"
      ],
      "metadata": {
        "colab": {
          "base_uri": "https://localhost:8080/"
        },
        "id": "MepAUEeU0TMI",
        "outputId": "97f1050a-b9b0-4df3-8704-8f37831a20a1"
      },
      "execution_count": null,
      "outputs": [
        {
          "output_type": "stream",
          "name": "stdout",
          "text": [
            "{('Astha', 2), ('Manjeet', 4), ('Nikhil', 1), ('Shambhavi', 3)}\n"
          ]
        }
      ]
    },
    {
      "cell_type": "code",
      "source": [
        ""
      ],
      "metadata": {
        "id": "VibhoLNz0w03"
      },
      "execution_count": null,
      "outputs": []
    }
  ]
}